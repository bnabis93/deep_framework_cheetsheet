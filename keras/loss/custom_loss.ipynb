{
 "cells": [
  {
   "cell_type": "code",
   "execution_count": 8,
   "metadata": {},
   "outputs": [],
   "source": [
    "import numpy as np\n",
    "import matplotlib.pyplot as plt\n",
    "import os\n",
    "import sys\n",
    "import cv2\n",
    "\n",
    "from PIL import Image\n",
    "\n",
    "from keras import backend as K\n",
    "from keras import layers\n",
    "from keras import losses\n",
    "from keras import models\n",
    "from keras import optimizers\n",
    "from keras import callbacks\n",
    "\n",
    "import tensorflow as tf\n",
    "import random"
   ]
  },
  {
   "cell_type": "code",
   "execution_count": 76,
   "metadata": {},
   "outputs": [],
   "source": [
    "def custom_loss(y_true, y_pred):\n",
    "    '''\n",
    "    input shape -> (batch, input ~)\n",
    "    \n",
    "    '''\n",
    "    K.print_tensor(y_true, message='y_true shape : ')\n",
    "    K.print_tensor(y_pred, message='y_pred shape : ')\n",
    "    tf.Print(y_true, [y_true], \"Inside loss function\")\n",
    "    loss = K.sum(K.sum(y_true - y_pred, axis = -1), axis = 0)\n",
    "    tf.Print(loss, [loss], \"Inside loss function\")\n",
    "    \n",
    "    return loss\n",
    "\n",
    "model = models.Sequential()\n",
    "model.add(layers.Dense(2, activation=None))\n",
    "model.compile(optimizer = optimizers.SGD(0.01), loss = custom_loss, metrics= ['accuracy'])\n",
    "\n"
   ]
  },
  {
   "cell_type": "code",
   "execution_count": 77,
   "metadata": {},
   "outputs": [],
   "source": [
    "y_train = np.array([[1, 0], [0, 1]])\n",
    "x_train = np.random.normal(size=(2, 2))"
   ]
  },
  {
   "cell_type": "code",
   "execution_count": 78,
   "metadata": {},
   "outputs": [
    {
     "name": "stdout",
     "output_type": "stream",
     "text": [
      "Epoch 1/2\n",
      "2/2 [==============================] - 0s 85ms/step - loss: 4.5469 - acc: 0.5000\n",
      "Epoch 2/2\n",
      "2/2 [==============================] - 0s 2ms/step - loss: 4.3714 - acc: 0.5000\n"
     ]
    },
    {
     "data": {
      "text/plain": [
       "<keras.callbacks.History at 0x7ff1a076a470>"
      ]
     },
     "execution_count": 78,
     "metadata": {},
     "output_type": "execute_result"
    }
   ],
   "source": [
    "model.fit(x_train, y_train, epochs = 2,verbose=1)"
   ]
  },
  {
   "cell_type": "code",
   "execution_count": null,
   "metadata": {},
   "outputs": [],
   "source": []
  },
  {
   "cell_type": "code",
   "execution_count": null,
   "metadata": {},
   "outputs": [],
   "source": []
  }
 ],
 "metadata": {
  "kernelspec": {
   "display_name": "Python 3",
   "language": "python",
   "name": "python3"
  },
  "language_info": {
   "codemirror_mode": {
    "name": "ipython",
    "version": 3
   },
   "file_extension": ".py",
   "mimetype": "text/x-python",
   "name": "python",
   "nbconvert_exporter": "python",
   "pygments_lexer": "ipython3",
   "version": "3.5.5"
  }
 },
 "nbformat": 4,
 "nbformat_minor": 4
}

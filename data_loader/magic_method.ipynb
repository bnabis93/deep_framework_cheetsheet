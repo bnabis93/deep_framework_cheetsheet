{
 "cells": [
  {
   "cell_type": "markdown",
   "metadata": {},
   "source": [
    "## Magic method"
   ]
  },
  {
   "cell_type": "markdown",
   "metadata": {},
   "source": [
    "Data loader를 만들때 당연하게 data loader class내부에 __init__, __getitem__, __len__ 등의 method를 선언하고 시작한다.  \n",
    "관용적인 표현인것 마냥 굳어져 어느순간 별 생각없이 이를 선언하고, 만들고 있는 모습을 볼 수 있다.  \n"
   ]
  },
  {
   "cell_type": "code",
   "execution_count": 8,
   "metadata": {},
   "outputs": [],
   "source": [
    "class dataloader():\n",
    "    def __init__():\n",
    "        self.nothing = None\n",
    "        \n",
    "    def __len__(self):\n",
    "        return \n",
    "    \n",
    "    def __getitem__(self):\n",
    "        return \n",
    "    \n",
    "# 오잉..?"
   ]
  },
  {
   "cell_type": "markdown",
   "metadata": {},
   "source": [
    "magic function은 연산자 오버로딩 (operation overloading)에 대한 python의 접근법이다.  \n",
    "이는 클래스가 연산자에 대해 자기 자신의 동작을 정의 할 수 있도록 만들어 준다.  \n",
    "\n",
    "다음의 예에서 __ getitem __ method를 선언하고 'x'라는 instance를 만들면  \n",
    "x[i] 와 x.__ getitem __(i) 과 동일한 결과를 호출한다."
   ]
  },
  {
   "cell_type": "code",
   "execution_count": 14,
   "metadata": {},
   "outputs": [
    {
     "name": "stdout",
     "output_type": "stream",
     "text": [
      "3\n"
     ]
    }
   ],
   "source": [
    "class dataloader():\n",
    "    def __init__(self):\n",
    "        self.temp_lists = [1,6,3,2,7,1,34,24,12,63,3]\n",
    "        \n",
    "    def __getitem__(self,idx):\n",
    "        return self.temp_lists[idx]\n",
    "    \n",
    "x = dataloader()\n",
    "print(x[2])\n",
    "    "
   ]
  },
  {
   "cell_type": "markdown",
   "metadata": {},
   "source": [
    "Data loader를 만들때, __ len __ , __ getitem __ method가 필수적인데 이에대한 설명은 다음과 같다.  \n",
    "- __ getitem __  \n",
    "self[key] 를 구하기 위하여 호출된다. 정수와 슬라이스 키 객체만 허용 됨.  \n",
    "- __ len __  \n",
    "내장함수 len()을 구현하기 위하여 만들어진 method. >= 0 인 객체의 길이를 반환한다. "
   ]
  },
  {
   "cell_type": "code",
   "execution_count": 19,
   "metadata": {},
   "outputs": [
    {
     "name": "stdout",
     "output_type": "stream",
     "text": [
      "11\n",
      "2\n"
     ]
    }
   ],
   "source": [
    "class dataloader():\n",
    "    def __init__(self):\n",
    "        self.temp_lists = [1,6,3,2,7,1,34,24,12,63,3]\n",
    "        \n",
    "    def __getitem__(self,idx):\n",
    "        return self.temp_lists[idx]\n",
    "    \n",
    "    def __len__(self):\n",
    "        return len(self.temp_lists)\n",
    "    \n",
    "x = dataloader()\n",
    "print(len(x))\n",
    "print(x[3])"
   ]
  },
  {
   "cell_type": "markdown",
   "metadata": {},
   "source": [
    "\n",
    "\n",
    "### Understanding of python class magic method (__ __)\n",
    "- https://ziwon.dev/post/python_magic_methods/\n",
    "- https://docs.python.org/3/reference/datamodel.html#emulating-container-types , python documentation\n",
    "- https://docs.python.org/ko/3/reference/datamodel.html#specialnames\n",
    "\n",
    "### Data loader tutorial  \n",
    "- https://stanford.edu/~shervine/blog/pytorch-how-to-generate-data-parallel\n",
    "- https://pytorch.org/tutorials/beginner/data_loading_tutorial.html"
   ]
  },
  {
   "cell_type": "code",
   "execution_count": null,
   "metadata": {},
   "outputs": [],
   "source": []
  }
 ],
 "metadata": {
  "kernelspec": {
   "display_name": "Python 3",
   "language": "python",
   "name": "python3"
  },
  "language_info": {
   "codemirror_mode": {
    "name": "ipython",
    "version": 3
   },
   "file_extension": ".py",
   "mimetype": "text/x-python",
   "name": "python",
   "nbconvert_exporter": "python",
   "pygments_lexer": "ipython3",
   "version": "3.5.5"
  }
 },
 "nbformat": 4,
 "nbformat_minor": 4
}
